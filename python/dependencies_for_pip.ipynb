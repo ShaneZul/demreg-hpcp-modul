{
 "cells": [
  {
   "cell_type": "code",
   "execution_count": 2,
   "id": "22c04326-bad1-4510-95f4-df6d1089e75e",
   "metadata": {},
   "outputs": [
    {
     "name": "stdout",
     "output_type": "stream",
     "text": [
      "Requirement already satisfied: numpy in /usr/local/Cellar/jupyterlab/4.4.9/libexec/lib/python3.13/site-packages (2.3.3)\n",
      "Requirement already satisfied: matplotlib in /usr/local/Cellar/jupyterlab/4.4.9/libexec/lib/python3.13/site-packages (3.10.6)\n",
      "Requirement already satisfied: scipy in /usr/local/Cellar/jupyterlab/4.4.9/libexec/lib/python3.13/site-packages (1.16.2)\n",
      "Requirement already satisfied: tqdm in /usr/local/Cellar/jupyterlab/4.4.9/libexec/lib/python3.13/site-packages (4.67.1)\n",
      "Requirement already satisfied: threadpoolctl in /usr/local/Cellar/jupyterlab/4.4.9/libexec/lib/python3.13/site-packages (3.6.0)\n",
      "\u001b[31mERROR: Could not find a version that satisfies the requirement warnings (from versions: none)\u001b[0m\u001b[31m\n",
      "\u001b[0m\u001b[31mERROR: No matching distribution found for warnings\u001b[0m\u001b[31m\n",
      "\u001b[0mNote: you may need to restart the kernel to use updated packages.\n"
     ]
    }
   ],
   "source": [
    "pip install numpy matplotlib scipy tqdm threadpoolctl warnings"
   ]
  },
  {
   "cell_type": "code",
   "execution_count": null,
   "id": "d47bc47e-1dff-456b-a515-3fa745b5ffe8",
   "metadata": {},
   "outputs": [],
   "source": []
  }
 ],
 "metadata": {
  "kernelspec": {
   "display_name": "Python 3 (ipykernel)",
   "language": "python",
   "name": "python3"
  },
  "language_info": {
   "codemirror_mode": {
    "name": "ipython",
    "version": 3
   },
   "file_extension": ".py",
   "mimetype": "text/x-python",
   "name": "python",
   "nbconvert_exporter": "python",
   "pygments_lexer": "ipython3",
   "version": "3.13.7"
  }
 },
 "nbformat": 4,
 "nbformat_minor": 5
}
