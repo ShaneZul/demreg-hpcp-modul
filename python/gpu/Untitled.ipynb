{
 "cells": [
  {
   "cell_type": "code",
   "execution_count": 2,
   "id": "f6e1f6a9-2346-40f1-8fb1-48429fcaa115",
   "metadata": {},
   "outputs": [
    {
     "name": "stdout",
     "output_type": "stream",
     "text": [
      "GPUs: 1\n"
     ]
    },
    {
     "name": "stderr",
     "output_type": "stream",
     "text": [
      "[NVSHARE][INFO]: Using CUDA device with id 3\n",
      "[NVSHARE][INFO]: Using scheduler socket path: /var/run/nvshare/scheduler3.sock\n",
      "[NVSHARE][INFO]: Successfully initialized nvshare GPU\n",
      "[NVSHARE][INFO]: Client ID = 91b90c44db4fa145\n"
     ]
    }
   ],
   "source": [
    "try:\n",
    "    import cupy as cp\n",
    "    print(\"GPUs:\", cp.cuda.runtime.getDeviceCount())\n",
    "except Exception as e:\n",
    "    print(\"CuPy nicht verfügbar, falle auf NumPy zurück:\", e)"
   ]
  },
  {
   "cell_type": "code",
   "execution_count": null,
   "id": "362b1242-b3aa-422b-b821-05d3ab769a51",
   "metadata": {},
   "outputs": [],
   "source": []
  }
 ],
 "metadata": {
  "kernelspec": {
   "display_name": "Python [conda env:.conda-hpcp-own]",
   "language": "python",
   "name": "conda-env-.conda-hpcp-own-py"
  },
  "language_info": {
   "codemirror_mode": {
    "name": "ipython",
    "version": 3
   },
   "file_extension": ".py",
   "mimetype": "text/x-python",
   "name": "python",
   "nbconvert_exporter": "python",
   "pygments_lexer": "ipython3",
   "version": "3.11.14"
  }
 },
 "nbformat": 4,
 "nbformat_minor": 5
}
