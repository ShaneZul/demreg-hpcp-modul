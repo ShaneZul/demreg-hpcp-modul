{
 "cells": [
  {
   "attachments": {},
   "cell_type": "markdown",
   "metadata": {},
   "source": [
    "#### Simple test\n",
    "\n",
    "Simpler example with synthetic data for testing purposes\n",
    "\n",
    "* 24-Sep-2025 IGH"
   ]
  },
  {
   "cell_type": "code",
   "execution_count": 1,
   "metadata": {},
   "outputs": [],
   "source": [
    "# Import some of the stuff we will need\n",
    "import numpy as np\n",
    "import math\n",
    "import matplotlib.pyplot as plt\n",
    "import matplotlib\n",
    "import scipy.io as io\n",
    "\n",
    "# So can have single copy of demreg on system, and don't need copy in working directory\n",
    "from sys import path as sys_path\n",
    "# Change to your local copy's location...\n",
    "sys_path.append('/Users/iain/github/demreg/python')\n",
    "from dn2dem_pos import dn2dem_pos\n",
    "\n",
    "import warnings\n",
    "warnings.simplefilter('ignore')\n",
    "matplotlib.rcParams['font.size'] = 16"
   ]
  },
  {
   "cell_type": "code",
   "execution_count": 2,
   "metadata": {},
   "outputs": [
    {
     "name": "stdout",
     "output_type": "stream",
     "text": [
      "['A94' 'A131' 'A171' 'A193' 'A211' 'A335']\n"
     ]
    }
   ],
   "source": [
    "# Load in the SSWIDL generated response functions\n",
    "# Was produced by make_aiaresp_forpy.pro (can't escape sswidl that easily....)\n",
    "trin=io.readsav('aia_tresp_en.dat')\n",
    "\n",
    "# Get rid of the b in the string name (byte vs utf stuff....)\n",
    "for i in np.arange(len(trin['channels'])):\n",
    "    trin['channels'][i]=trin['channels'][i].decode(\"utf-8\")\n",
    "print(trin['channels'])\n",
    "\n",
    "# Get the temperature response functions in the correct form for demreg\n",
    "tresp_logt=np.array(trin['logt'])\n",
    "nt=len(tresp_logt)\n",
    "nf=len(trin['tr'][:])\n",
    "trmatrix=np.zeros((nt,nf))\n",
    "for i in range(0,nf):\n",
    "    trmatrix[:,i]=trin['tr'][i]\n",
    "matplotlib.rcParams['font.size'] = 16"
   ]
  },
  {
   "cell_type": "code",
   "execution_count": 3,
   "metadata": {},
   "outputs": [
    {
     "name": "stdout",
     "output_type": "stream",
     "text": [
      "dn_in:  [  326.11015384   313.31711081  2663.51032443 11361.19771881\n",
      "  8700.35613926  1208.36625448]\n",
      "edn_in:  [14.94543537 12.67184957 32.12696433 61.39593307 51.38885685 15.53907416]\n"
     ]
    }
   ],
   "source": [
    "# For some DEM model (i.e. a Gaussian) produce the synthetic DN/s/px for each AIA channel\n",
    "d1=4e22\n",
    "m1=6.5\n",
    "s1=0.15\n",
    "root2pi=(2.*math.pi)**0.5\n",
    "dem_mod=(d1/(root2pi*s1))*np.exp(-(tresp_logt-m1)**2/(2*s1**2))\n",
    "\n",
    "# Now work out the DN/s/px\n",
    "# For AIA responses all are dlogt=0.05\n",
    "tresp_dlogt=np.full(nt,0.05)\n",
    "tc_full=np.zeros([nt,nf])\n",
    "for i in range(0,nf):\n",
    "    tc_full[:,i]=dem_mod*trmatrix[:,i]*10**tresp_logt*np.log(10**tresp_dlogt)\n",
    "\n",
    "dn_in=np.sum(tc_full,0)\n",
    "print('dn_in: ',dn_in)\n",
    "\n",
    "# And the associated uncertainty (no systematics)\n",
    "gains=np.array([18.3,17.6,17.7,18.3,18.3,17.6])\n",
    "dn2ph=gains*np.array([94,131,171,193,211,335])/3397.\n",
    "rdnse=np.array([1.14,1.18,1.15,1.20,1.20,1.18])\n",
    "# assume all obs were 2.9s long\n",
    "dn0=dn_in*2.9\n",
    "shotnoise=(dn2ph*dn0)**0.5/dn2ph/2.9\n",
    "# error in DN/s/px\n",
    "edn_in=(rdnse**2+shotnoise**2)**0.5 \n",
    "print('edn_in: ',edn_in)"
   ]
  },
  {
   "cell_type": "code",
   "execution_count": 4,
   "metadata": {},
   "outputs": [
    {
     "ename": "LinAlgError",
     "evalue": "Singular matrix",
     "output_type": "error",
     "traceback": [
      "\u001b[0;31m---------------------------------------------------------------------------\u001b[0m",
      "\u001b[0;31mLinAlgError\u001b[0m                               Traceback (most recent call last)",
      "Cell \u001b[0;32mIn[4], line 9\u001b[0m\n\u001b[1;32m      5\u001b[0m mlogt\u001b[38;5;241m=\u001b[39m([np\u001b[38;5;241m.\u001b[39mmean([(np\u001b[38;5;241m.\u001b[39mlog10(temps[i])),np\u001b[38;5;241m.\u001b[39mlog10((temps[i\u001b[38;5;241m+\u001b[39m\u001b[38;5;241m1\u001b[39m]))]) \\\n\u001b[1;32m      6\u001b[0m         \u001b[38;5;28;01mfor\u001b[39;00m i \u001b[38;5;129;01min\u001b[39;00m np\u001b[38;5;241m.\u001b[39marange(\u001b[38;5;241m0\u001b[39m,\u001b[38;5;28mlen\u001b[39m(temps)\u001b[38;5;241m-\u001b[39m\u001b[38;5;241m1\u001b[39m)])\n\u001b[1;32m      8\u001b[0m \u001b[38;5;66;03m# Now work out the DEM \u001b[39;00m\n\u001b[0;32m----> 9\u001b[0m dem0,edem0,elogt0,chisq0,dn_reg0\u001b[38;5;241m=\u001b[39mdn2dem_pos(dn_in,edn_in,trmatrix,tresp_logt,temps) \n\u001b[1;32m     11\u001b[0m \u001b[38;5;66;03m#  Plot it all\u001b[39;00m\n\u001b[1;32m     12\u001b[0m yr\u001b[38;5;241m=\u001b[39m[\u001b[38;5;241m2e19\u001b[39m,\u001b[38;5;241m4e23\u001b[39m]\n",
      "File \u001b[0;32m~/github/demreg/python/dn2dem_pos.py:217\u001b[0m, in \u001b[0;36mdn2dem_pos\u001b[0;34m(dn_in, edn_in, tresp, tresp_logt, temps, reg_tweak, max_iter, gloci, rgt_fact, dem_norm0, nmu, warn, emd_int, emd_ret, l_emd, non_pos, rscl)\u001b[0m\n\u001b[1;32m    215\u001b[0m \u001b[38;5;28;01mif\u001b[39;00m ( dem0\u001b[38;5;241m.\u001b[39mndim\u001b[38;5;241m==\u001b[39mdn\u001b[38;5;241m.\u001b[39mndim ):\n\u001b[1;32m    216\u001b[0m     dem01d\u001b[38;5;241m=\u001b[39mnp\u001b[38;5;241m.\u001b[39mreshape(dem0,[nx\u001b[38;5;241m*\u001b[39mny,nt])\n\u001b[0;32m--> 217\u001b[0m     dem1d,edem1d,elogt1d,chisq1d,dn_reg1d\u001b[38;5;241m=\u001b[39mdemmap_pos(dn1d,edn1d,rmatrix,logt,dlogt,glc,\\\n\u001b[1;32m    218\u001b[0m         reg_tweak\u001b[38;5;241m=\u001b[39mreg_tweak,max_iter\u001b[38;5;241m=\u001b[39mmax_iter,rgt_fact\u001b[38;5;241m=\u001b[39mrgt_fact,dem_norm0\u001b[38;5;241m=\u001b[39mdem01d,nmu\u001b[38;5;241m=\u001b[39mnmu,warn\u001b[38;5;241m=\u001b[39mwarn,l_emd\u001b[38;5;241m=\u001b[39ml_emd,rscl\u001b[38;5;241m=\u001b[39mrscl)\n\u001b[1;32m    219\u001b[0m \u001b[38;5;28;01melse\u001b[39;00m:\n\u001b[1;32m    220\u001b[0m     dem1d,edem1d,elogt1d,chisq1d,dn_reg1d\u001b[38;5;241m=\u001b[39mdemmap_pos(dn1d,edn1d,rmatrix,logt,\\\n\u001b[1;32m    221\u001b[0m         dlogt,glc,reg_tweak\u001b[38;5;241m=\u001b[39mreg_tweak,max_iter\u001b[38;5;241m=\u001b[39mmax_iter,\\\n\u001b[1;32m    222\u001b[0m             rgt_fact\u001b[38;5;241m=\u001b[39mrgt_fact,dem_norm0\u001b[38;5;241m=\u001b[39m\u001b[38;5;241m0\u001b[39m,nmu\u001b[38;5;241m=\u001b[39mnmu,warn\u001b[38;5;241m=\u001b[39mwarn,l_emd\u001b[38;5;241m=\u001b[39ml_emd,rscl\u001b[38;5;241m=\u001b[39mrscl)\n",
      "File \u001b[0;32m~/github/demreg/python/demmap_pos.py:153\u001b[0m, in \u001b[0;36mdemmap_pos\u001b[0;34m(dd, ed, rmatrix, logt, dlogt, glc, reg_tweak, max_iter, rgt_fact, dem_norm0, nmu, warn, l_emd, rscl)\u001b[0m\n\u001b[1;32m    150\u001b[0m \u001b[38;5;66;03m#else we execute in serial\u001b[39;00m\n\u001b[1;32m    151\u001b[0m \u001b[38;5;28;01melse\u001b[39;00m:   \n\u001b[1;32m    152\u001b[0m     \u001b[38;5;28;01mfor\u001b[39;00m i \u001b[38;5;129;01min\u001b[39;00m \u001b[38;5;28mrange\u001b[39m(na):\n\u001b[0;32m--> 153\u001b[0m         result\u001b[38;5;241m=\u001b[39mdem_pix(dd[i,:],ed[i,:],rmatrix,logt,dlogt,glc, \\\n\u001b[1;32m    154\u001b[0m             reg_tweak\u001b[38;5;241m=\u001b[39mreg_tweak,max_iter\u001b[38;5;241m=\u001b[39mmax_iter,rgt_fact\u001b[38;5;241m=\u001b[39mrgt_fact,dem_norm0\u001b[38;5;241m=\u001b[39mdem_norm0[i,:],nmu\u001b[38;5;241m=\u001b[39mnmu,warn\u001b[38;5;241m=\u001b[39mwarn,l_emd\u001b[38;5;241m=\u001b[39ml_emd,rscl\u001b[38;5;241m=\u001b[39mrscl)\n\u001b[1;32m    155\u001b[0m         dem[i,:]\u001b[38;5;241m=\u001b[39mresult[\u001b[38;5;241m0\u001b[39m]\n\u001b[1;32m    156\u001b[0m         edem[i,:]\u001b[38;5;241m=\u001b[39mresult[\u001b[38;5;241m1\u001b[39m]\n",
      "File \u001b[0;32m~/github/demreg/python/demmap_pos.py:271\u001b[0m, in \u001b[0;36mdem_pix\u001b[0;34m(dnin, ednin, rmatrix, logt, dlogt, glc, reg_tweak, max_iter, rgt_fact, dem_norm0, nmu, warn, l_emd, rscl)\u001b[0m\n\u001b[1;32m    269\u001b[0m         \u001b[38;5;28;01melse\u001b[39;00m:\n\u001b[1;32m    270\u001b[0m             L\u001b[38;5;241m=\u001b[39mnp\u001b[38;5;241m.\u001b[39mdiag(np\u001b[38;5;241m.\u001b[39msqrt(dlogt)\u001b[38;5;241m/\u001b[39mnp\u001b[38;5;241m.\u001b[39msqrt(\u001b[38;5;28mabs\u001b[39m(dem_reg_lwght))) \n\u001b[0;32m--> 271\u001b[0m         sva,svb,U,V,W \u001b[38;5;241m=\u001b[39m dem_inv_gsvd(rmatrixin\u001b[38;5;241m.\u001b[39mT,L)\n\u001b[1;32m    272\u001b[0m \u001b[38;5;66;03m#  Now loop until positive solution or max_iter reached\u001b[39;00m\n\u001b[1;32m    273\u001b[0m         \u001b[38;5;28;01mwhile\u001b[39;00m((ndem \u001b[38;5;241m>\u001b[39m \u001b[38;5;241m0\u001b[39m) \u001b[38;5;129;01mand\u001b[39;00m (piter \u001b[38;5;241m<\u001b[39m max_iter)):\n\u001b[1;32m    274\u001b[0m             \u001b[38;5;66;03m# #make L from 1/dem reg scaled by dlogt and diagonalise\u001b[39;00m\n\u001b[1;32m    275\u001b[0m             \u001b[38;5;66;03m# L=np.diag(np.sqrt(dlogt)/np.sqrt(abs(dem_reg_lwght))) \u001b[39;00m\n\u001b[1;32m    276\u001b[0m             \u001b[38;5;66;03m# #call gsvd and reg map\u001b[39;00m\n\u001b[1;32m    277\u001b[0m             \u001b[38;5;66;03m# sva,svb,U,V,W = dem_inv_gsvd(rmatrixin.T,L)\u001b[39;00m\n",
      "File \u001b[0;32m~/github/demreg/python/dem_inv_gsvd.py:42\u001b[0m, in \u001b[0;36mdem_inv_gsvd\u001b[0;34m(A, B)\u001b[0m\n\u001b[1;32m      5\u001b[0m \u001b[38;5;250m\u001b[39m\u001b[38;5;124;03m\"\"\"\u001b[39;00m\n\u001b[1;32m      6\u001b[0m \u001b[38;5;124;03mdem_inv_gsvd\u001b[39;00m\n\u001b[1;32m      7\u001b[0m \n\u001b[0;32m   (...)\u001b[0m\n\u001b[1;32m     39\u001b[0m \n\u001b[1;32m     40\u001b[0m \u001b[38;5;124;03m\"\"\"\u001b[39;00m  \n\u001b[1;32m     41\u001b[0m \u001b[38;5;66;03m#calculate the matrix A*B^-1\u001b[39;00m\n\u001b[0;32m---> 42\u001b[0m AB1\u001b[38;5;241m=\u001b[39mA\u001b[38;5;129m@inv\u001b[39m(B)\n\u001b[1;32m     43\u001b[0m sze\u001b[38;5;241m=\u001b[39mAB1\u001b[38;5;241m.\u001b[39mshape\n\u001b[1;32m     44\u001b[0m C\u001b[38;5;241m=\u001b[39mnp\u001b[38;5;241m.\u001b[39mzeros([\u001b[38;5;28mmax\u001b[39m(sze),\u001b[38;5;28mmax\u001b[39m(sze)])\n",
      "File \u001b[0;32m/opt/anaconda3/lib/python3.13/site-packages/numpy/linalg/_linalg.py:615\u001b[0m, in \u001b[0;36minv\u001b[0;34m(a)\u001b[0m\n\u001b[1;32m    612\u001b[0m signature \u001b[38;5;241m=\u001b[39m \u001b[38;5;124m'\u001b[39m\u001b[38;5;124mD->D\u001b[39m\u001b[38;5;124m'\u001b[39m \u001b[38;5;28;01mif\u001b[39;00m isComplexType(t) \u001b[38;5;28;01melse\u001b[39;00m \u001b[38;5;124m'\u001b[39m\u001b[38;5;124md->d\u001b[39m\u001b[38;5;124m'\u001b[39m\n\u001b[1;32m    613\u001b[0m \u001b[38;5;28;01mwith\u001b[39;00m errstate(call\u001b[38;5;241m=\u001b[39m_raise_linalgerror_singular, invalid\u001b[38;5;241m=\u001b[39m\u001b[38;5;124m'\u001b[39m\u001b[38;5;124mcall\u001b[39m\u001b[38;5;124m'\u001b[39m,\n\u001b[1;32m    614\u001b[0m               over\u001b[38;5;241m=\u001b[39m\u001b[38;5;124m'\u001b[39m\u001b[38;5;124mignore\u001b[39m\u001b[38;5;124m'\u001b[39m, divide\u001b[38;5;241m=\u001b[39m\u001b[38;5;124m'\u001b[39m\u001b[38;5;124mignore\u001b[39m\u001b[38;5;124m'\u001b[39m, under\u001b[38;5;241m=\u001b[39m\u001b[38;5;124m'\u001b[39m\u001b[38;5;124mignore\u001b[39m\u001b[38;5;124m'\u001b[39m):\n\u001b[0;32m--> 615\u001b[0m     ainv \u001b[38;5;241m=\u001b[39m _umath_linalg\u001b[38;5;241m.\u001b[39minv(a, signature\u001b[38;5;241m=\u001b[39msignature)\n\u001b[1;32m    616\u001b[0m \u001b[38;5;28;01mreturn\u001b[39;00m wrap(ainv\u001b[38;5;241m.\u001b[39mastype(result_t, copy\u001b[38;5;241m=\u001b[39m\u001b[38;5;28;01mFalse\u001b[39;00m))\n",
      "File \u001b[0;32m/opt/anaconda3/lib/python3.13/site-packages/numpy/linalg/_linalg.py:104\u001b[0m, in \u001b[0;36m_raise_linalgerror_singular\u001b[0;34m(err, flag)\u001b[0m\n\u001b[1;32m    103\u001b[0m \u001b[38;5;28;01mdef\u001b[39;00m\u001b[38;5;250m \u001b[39m\u001b[38;5;21m_raise_linalgerror_singular\u001b[39m(err, flag):\n\u001b[0;32m--> 104\u001b[0m     \u001b[38;5;28;01mraise\u001b[39;00m LinAlgError(\u001b[38;5;124m\"\u001b[39m\u001b[38;5;124mSingular matrix\u001b[39m\u001b[38;5;124m\"\u001b[39m)\n",
      "\u001b[0;31mLinAlgError\u001b[0m: Singular matrix"
     ]
    }
   ],
   "source": [
    "#  Setup the T binning for DEM solution\n",
    "temps=np.logspace(5.7,7.1,num=35)\n",
    "# temps=10**np.arange(5.7,7.1+0.05,0.05)\n",
    "# Temperature bin mid-points for DEM plotting\n",
    "mlogt=([np.mean([(np.log10(temps[i])),np.log10((temps[i+1]))]) \\\n",
    "        for i in np.arange(0,len(temps)-1)])\n",
    "\n",
    "# Now work out the DEM \n",
    "dem0,edem0,elogt0,chisq0,dn_reg0=dn2dem_pos(dn_in,edn_in,trmatrix,tresp_logt,temps) \n",
    "\n",
    "#  Plot it all\n",
    "yr=[2e19,4e23]\n",
    "xr=[5.7,7.2]#np.log10([min(temps),max(temps)])\n",
    "fig = plt.figure(figsize=(8, 4.5))\n",
    "plt.errorbar(mlogt,dem0,xerr=elogt0,yerr=edem0,fmt='or',\\\n",
    "             ecolor='lightcoral', elinewidth=3, capsize=0,label='Def Self LWght')\n",
    "plt.plot(tresp_logt,dem_mod,'--',color='grey')\n",
    "plt.xlabel('$\\mathrm{\\log_{10}T\\;[K]}$')\n",
    "plt.ylabel('$\\mathrm{DEM\\;[cm^{-5}\\;K^{-1}]}$')\n",
    "plt.ylim(yr)\n",
    "plt.xlim(xr)\n",
    "plt.rcParams.update({'font.size': 16})\n",
    "plt.yscale('log')\n",
    "plt.legend()\n",
    "plt.show()"
   ]
  },
  {
   "cell_type": "code",
   "execution_count": 5,
   "metadata": {},
   "outputs": [
    {
     "ename": "LinAlgError",
     "evalue": "Singular matrix",
     "output_type": "error",
     "traceback": [
      "\u001b[0;31m---------------------------------------------------------------------------\u001b[0m",
      "\u001b[0;31mLinAlgError\u001b[0m                               Traceback (most recent call last)",
      "Cell \u001b[0;32mIn[5], line 10\u001b[0m\n\u001b[1;32m      7\u001b[0m temps\u001b[38;5;241m=\u001b[39m\u001b[38;5;241m10\u001b[39m\u001b[38;5;241m*\u001b[39m\u001b[38;5;241m*\u001b[39mnp\u001b[38;5;241m.\u001b[39marange(mint,maxt\u001b[38;5;241m+\u001b[39mdlogt,dlogt)\n\u001b[1;32m      8\u001b[0m mlogt\u001b[38;5;241m=\u001b[39m([np\u001b[38;5;241m.\u001b[39mmean([(np\u001b[38;5;241m.\u001b[39mlog10(temps[i])),np\u001b[38;5;241m.\u001b[39mlog10(temps[i\u001b[38;5;241m+\u001b[39m\u001b[38;5;241m1\u001b[39m])]) \\\n\u001b[1;32m      9\u001b[0m         \u001b[38;5;28;01mfor\u001b[39;00m i \u001b[38;5;129;01min\u001b[39;00m np\u001b[38;5;241m.\u001b[39marange(\u001b[38;5;241m0\u001b[39m,\u001b[38;5;28mlen\u001b[39m(temps)\u001b[38;5;241m-\u001b[39m\u001b[38;5;241m1\u001b[39m)])\n\u001b[0;32m---> 10\u001b[0m dem0,edem0,elogt0,chisq0,dn_reg0\u001b[38;5;241m=\u001b[39mdn2dem_pos(dn_in,edn_in,trmatrix,tresp_logt,temps)\n\u001b[1;32m     12\u001b[0m \u001b[38;5;66;03m#  Plot it\u001b[39;00m\n\u001b[1;32m     13\u001b[0m yr\u001b[38;5;241m=\u001b[39m[\u001b[38;5;241m2e18\u001b[39m,\u001b[38;5;241m4e25\u001b[39m]\n",
      "File \u001b[0;32m~/github/demreg/python/dn2dem_pos.py:217\u001b[0m, in \u001b[0;36mdn2dem_pos\u001b[0;34m(dn_in, edn_in, tresp, tresp_logt, temps, reg_tweak, max_iter, gloci, rgt_fact, dem_norm0, nmu, warn, emd_int, emd_ret, l_emd, non_pos, rscl)\u001b[0m\n\u001b[1;32m    215\u001b[0m \u001b[38;5;28;01mif\u001b[39;00m ( dem0\u001b[38;5;241m.\u001b[39mndim\u001b[38;5;241m==\u001b[39mdn\u001b[38;5;241m.\u001b[39mndim ):\n\u001b[1;32m    216\u001b[0m     dem01d\u001b[38;5;241m=\u001b[39mnp\u001b[38;5;241m.\u001b[39mreshape(dem0,[nx\u001b[38;5;241m*\u001b[39mny,nt])\n\u001b[0;32m--> 217\u001b[0m     dem1d,edem1d,elogt1d,chisq1d,dn_reg1d\u001b[38;5;241m=\u001b[39mdemmap_pos(dn1d,edn1d,rmatrix,logt,dlogt,glc,\\\n\u001b[1;32m    218\u001b[0m         reg_tweak\u001b[38;5;241m=\u001b[39mreg_tweak,max_iter\u001b[38;5;241m=\u001b[39mmax_iter,rgt_fact\u001b[38;5;241m=\u001b[39mrgt_fact,dem_norm0\u001b[38;5;241m=\u001b[39mdem01d,nmu\u001b[38;5;241m=\u001b[39mnmu,warn\u001b[38;5;241m=\u001b[39mwarn,l_emd\u001b[38;5;241m=\u001b[39ml_emd,rscl\u001b[38;5;241m=\u001b[39mrscl)\n\u001b[1;32m    219\u001b[0m \u001b[38;5;28;01melse\u001b[39;00m:\n\u001b[1;32m    220\u001b[0m     dem1d,edem1d,elogt1d,chisq1d,dn_reg1d\u001b[38;5;241m=\u001b[39mdemmap_pos(dn1d,edn1d,rmatrix,logt,\\\n\u001b[1;32m    221\u001b[0m         dlogt,glc,reg_tweak\u001b[38;5;241m=\u001b[39mreg_tweak,max_iter\u001b[38;5;241m=\u001b[39mmax_iter,\\\n\u001b[1;32m    222\u001b[0m             rgt_fact\u001b[38;5;241m=\u001b[39mrgt_fact,dem_norm0\u001b[38;5;241m=\u001b[39m\u001b[38;5;241m0\u001b[39m,nmu\u001b[38;5;241m=\u001b[39mnmu,warn\u001b[38;5;241m=\u001b[39mwarn,l_emd\u001b[38;5;241m=\u001b[39ml_emd,rscl\u001b[38;5;241m=\u001b[39mrscl)\n",
      "File \u001b[0;32m~/github/demreg/python/demmap_pos.py:153\u001b[0m, in \u001b[0;36mdemmap_pos\u001b[0;34m(dd, ed, rmatrix, logt, dlogt, glc, reg_tweak, max_iter, rgt_fact, dem_norm0, nmu, warn, l_emd, rscl)\u001b[0m\n\u001b[1;32m    150\u001b[0m \u001b[38;5;66;03m#else we execute in serial\u001b[39;00m\n\u001b[1;32m    151\u001b[0m \u001b[38;5;28;01melse\u001b[39;00m:   \n\u001b[1;32m    152\u001b[0m     \u001b[38;5;28;01mfor\u001b[39;00m i \u001b[38;5;129;01min\u001b[39;00m \u001b[38;5;28mrange\u001b[39m(na):\n\u001b[0;32m--> 153\u001b[0m         result\u001b[38;5;241m=\u001b[39mdem_pix(dd[i,:],ed[i,:],rmatrix,logt,dlogt,glc, \\\n\u001b[1;32m    154\u001b[0m             reg_tweak\u001b[38;5;241m=\u001b[39mreg_tweak,max_iter\u001b[38;5;241m=\u001b[39mmax_iter,rgt_fact\u001b[38;5;241m=\u001b[39mrgt_fact,dem_norm0\u001b[38;5;241m=\u001b[39mdem_norm0[i,:],nmu\u001b[38;5;241m=\u001b[39mnmu,warn\u001b[38;5;241m=\u001b[39mwarn,l_emd\u001b[38;5;241m=\u001b[39ml_emd,rscl\u001b[38;5;241m=\u001b[39mrscl)\n\u001b[1;32m    155\u001b[0m         dem[i,:]\u001b[38;5;241m=\u001b[39mresult[\u001b[38;5;241m0\u001b[39m]\n\u001b[1;32m    156\u001b[0m         edem[i,:]\u001b[38;5;241m=\u001b[39mresult[\u001b[38;5;241m1\u001b[39m]\n",
      "File \u001b[0;32m~/github/demreg/python/demmap_pos.py:271\u001b[0m, in \u001b[0;36mdem_pix\u001b[0;34m(dnin, ednin, rmatrix, logt, dlogt, glc, reg_tweak, max_iter, rgt_fact, dem_norm0, nmu, warn, l_emd, rscl)\u001b[0m\n\u001b[1;32m    269\u001b[0m         \u001b[38;5;28;01melse\u001b[39;00m:\n\u001b[1;32m    270\u001b[0m             L\u001b[38;5;241m=\u001b[39mnp\u001b[38;5;241m.\u001b[39mdiag(np\u001b[38;5;241m.\u001b[39msqrt(dlogt)\u001b[38;5;241m/\u001b[39mnp\u001b[38;5;241m.\u001b[39msqrt(\u001b[38;5;28mabs\u001b[39m(dem_reg_lwght))) \n\u001b[0;32m--> 271\u001b[0m         sva,svb,U,V,W \u001b[38;5;241m=\u001b[39m dem_inv_gsvd(rmatrixin\u001b[38;5;241m.\u001b[39mT,L)\n\u001b[1;32m    272\u001b[0m \u001b[38;5;66;03m#  Now loop until positive solution or max_iter reached\u001b[39;00m\n\u001b[1;32m    273\u001b[0m         \u001b[38;5;28;01mwhile\u001b[39;00m((ndem \u001b[38;5;241m>\u001b[39m \u001b[38;5;241m0\u001b[39m) \u001b[38;5;129;01mand\u001b[39;00m (piter \u001b[38;5;241m<\u001b[39m max_iter)):\n\u001b[1;32m    274\u001b[0m             \u001b[38;5;66;03m# #make L from 1/dem reg scaled by dlogt and diagonalise\u001b[39;00m\n\u001b[1;32m    275\u001b[0m             \u001b[38;5;66;03m# L=np.diag(np.sqrt(dlogt)/np.sqrt(abs(dem_reg_lwght))) \u001b[39;00m\n\u001b[1;32m    276\u001b[0m             \u001b[38;5;66;03m# #call gsvd and reg map\u001b[39;00m\n\u001b[1;32m    277\u001b[0m             \u001b[38;5;66;03m# sva,svb,U,V,W = dem_inv_gsvd(rmatrixin.T,L)\u001b[39;00m\n",
      "File \u001b[0;32m~/github/demreg/python/dem_inv_gsvd.py:42\u001b[0m, in \u001b[0;36mdem_inv_gsvd\u001b[0;34m(A, B)\u001b[0m\n\u001b[1;32m      5\u001b[0m \u001b[38;5;250m\u001b[39m\u001b[38;5;124;03m\"\"\"\u001b[39;00m\n\u001b[1;32m      6\u001b[0m \u001b[38;5;124;03mdem_inv_gsvd\u001b[39;00m\n\u001b[1;32m      7\u001b[0m \n\u001b[0;32m   (...)\u001b[0m\n\u001b[1;32m     39\u001b[0m \n\u001b[1;32m     40\u001b[0m \u001b[38;5;124;03m\"\"\"\u001b[39;00m  \n\u001b[1;32m     41\u001b[0m \u001b[38;5;66;03m#calculate the matrix A*B^-1\u001b[39;00m\n\u001b[0;32m---> 42\u001b[0m AB1\u001b[38;5;241m=\u001b[39mA\u001b[38;5;129m@inv\u001b[39m(B)\n\u001b[1;32m     43\u001b[0m sze\u001b[38;5;241m=\u001b[39mAB1\u001b[38;5;241m.\u001b[39mshape\n\u001b[1;32m     44\u001b[0m C\u001b[38;5;241m=\u001b[39mnp\u001b[38;5;241m.\u001b[39mzeros([\u001b[38;5;28mmax\u001b[39m(sze),\u001b[38;5;28mmax\u001b[39m(sze)])\n",
      "File \u001b[0;32m/opt/anaconda3/lib/python3.13/site-packages/numpy/linalg/_linalg.py:615\u001b[0m, in \u001b[0;36minv\u001b[0;34m(a)\u001b[0m\n\u001b[1;32m    612\u001b[0m signature \u001b[38;5;241m=\u001b[39m \u001b[38;5;124m'\u001b[39m\u001b[38;5;124mD->D\u001b[39m\u001b[38;5;124m'\u001b[39m \u001b[38;5;28;01mif\u001b[39;00m isComplexType(t) \u001b[38;5;28;01melse\u001b[39;00m \u001b[38;5;124m'\u001b[39m\u001b[38;5;124md->d\u001b[39m\u001b[38;5;124m'\u001b[39m\n\u001b[1;32m    613\u001b[0m \u001b[38;5;28;01mwith\u001b[39;00m errstate(call\u001b[38;5;241m=\u001b[39m_raise_linalgerror_singular, invalid\u001b[38;5;241m=\u001b[39m\u001b[38;5;124m'\u001b[39m\u001b[38;5;124mcall\u001b[39m\u001b[38;5;124m'\u001b[39m,\n\u001b[1;32m    614\u001b[0m               over\u001b[38;5;241m=\u001b[39m\u001b[38;5;124m'\u001b[39m\u001b[38;5;124mignore\u001b[39m\u001b[38;5;124m'\u001b[39m, divide\u001b[38;5;241m=\u001b[39m\u001b[38;5;124m'\u001b[39m\u001b[38;5;124mignore\u001b[39m\u001b[38;5;124m'\u001b[39m, under\u001b[38;5;241m=\u001b[39m\u001b[38;5;124m'\u001b[39m\u001b[38;5;124mignore\u001b[39m\u001b[38;5;124m'\u001b[39m):\n\u001b[0;32m--> 615\u001b[0m     ainv \u001b[38;5;241m=\u001b[39m _umath_linalg\u001b[38;5;241m.\u001b[39minv(a, signature\u001b[38;5;241m=\u001b[39msignature)\n\u001b[1;32m    616\u001b[0m \u001b[38;5;28;01mreturn\u001b[39;00m wrap(ainv\u001b[38;5;241m.\u001b[39mastype(result_t, copy\u001b[38;5;241m=\u001b[39m\u001b[38;5;28;01mFalse\u001b[39;00m))\n",
      "File \u001b[0;32m/opt/anaconda3/lib/python3.13/site-packages/numpy/linalg/_linalg.py:104\u001b[0m, in \u001b[0;36m_raise_linalgerror_singular\u001b[0;34m(err, flag)\u001b[0m\n\u001b[1;32m    103\u001b[0m \u001b[38;5;28;01mdef\u001b[39;00m\u001b[38;5;250m \u001b[39m\u001b[38;5;21m_raise_linalgerror_singular\u001b[39m(err, flag):\n\u001b[0;32m--> 104\u001b[0m     \u001b[38;5;28;01mraise\u001b[39;00m LinAlgError(\u001b[38;5;124m\"\u001b[39m\u001b[38;5;124mSingular matrix\u001b[39m\u001b[38;5;124m\"\u001b[39m)\n",
      "\u001b[0;31mLinAlgError\u001b[0m: Singular matrix"
     ]
    }
   ],
   "source": [
    "# Try another way.... from https://demregpy--13.org.readthedocs.build/en/13/generated/gallery/running_demregpy.html\n",
    "# set up our target dem temps\n",
    "mint=5.7\n",
    "maxt=7.2\n",
    "# the tresp resolution is 0.05 logt so can't use a resolution finger than that\n",
    "dlogt=0.05\n",
    "temps=10**np.arange(mint,maxt+dlogt,dlogt)\n",
    "mlogt=([np.mean([(np.log10(temps[i])),np.log10(temps[i+1])]) \\\n",
    "        for i in np.arange(0,len(temps)-1)])\n",
    "dem0,edem0,elogt0,chisq0,dn_reg0=dn2dem_pos(dn_in,edn_in,trmatrix,tresp_logt,temps)\n",
    "\n",
    "#  Plot it\n",
    "yr=[2e18,4e25]\n",
    "xr=[5.5,7.5] # or you can use np.log10([min(temps),max(temps)])\n",
    "fig = plt.figure(figsize=(10, 7))\n",
    "plt.errorbar(mlogt,dem0,xerr=elogt0,yerr=edem0,fmt='or',\\\n",
    "             ecolor='lightcoral', elinewidth=3, capsize=0,label=rf'DEM_int, $\\chi^2$: {chisq0:0.2f}')\n",
    "plt.plot(tresp_logt,dem_mod,'--',color='grey')\n",
    "plt.xlabel(r'$\\mathrm{\\log_{10}T\\;[K]}$')\n",
    "plt.ylabel(r'$\\mathrm{DEM\\;[cm^{-5}\\;K^{-1}]}$')\n",
    "plt.ylim(yr)\n",
    "plt.xlim(xr)\n",
    "plt.rcParams.update({'font.size': 16})\n",
    "plt.yscale('log')\n",
    "plt.legend()"
   ]
  },
  {
   "cell_type": "code",
   "execution_count": null,
   "metadata": {},
   "outputs": [],
   "source": []
  }
 ],
 "metadata": {
  "kernelspec": {
   "display_name": "base",
   "language": "python",
   "name": "python3"
  },
  "language_info": {
   "codemirror_mode": {
    "name": "ipython",
    "version": 3
   },
   "file_extension": ".py",
   "mimetype": "text/x-python",
   "name": "python",
   "nbconvert_exporter": "python",
   "pygments_lexer": "ipython3",
   "version": "3.13.5"
  }
 },
 "nbformat": 4,
 "nbformat_minor": 4
}
