{
 "cells": [
  {
   "cell_type": "code",
   "execution_count": 1,
   "id": "b7d6e3d3-f39e-4041-8120-aadf548e0990",
   "metadata": {},
   "outputs": [],
   "source": [
    "import pandas as pd\n",
    "import numpy as np\n",
    "import os\n",
    "import sys\n"
   ]
  },
  {
   "cell_type": "markdown",
   "id": "cef0a139-4363-403a-b6b6-32ad4c648404",
   "metadata": {},
   "source": [
    "# Plot Results\n",
    "\n",
    "This notebook can be used to create plots for the results. It requires the results to be present inside `../results/benchmark_results.csv`."
   ]
  },
  {
   "cell_type": "code",
   "execution_count": 11,
   "id": "3773565e-b47c-41e4-8468-0c1bef4e5c7e",
   "metadata": {},
   "outputs": [
    {
     "name": "stdout",
     "output_type": "stream",
     "text": [
      "✅ CSV erfolgreich geladen!\n",
      "📁 Datensätze: 24\n",
      "\n",
      "🔎 Verfügbare Algorithmen:\n",
      "['cpu' 'gpu-l2' 'vectorized'] \n",
      "\n",
      "📏 Pixelwerte:\n",
      "[ 200 1000 2000 5000] \n",
      "\n",
      "🌡️ Temperatur-Bins (nt):\n",
      "[200 400] \n",
      "\n",
      "📊 Alle Datensätze:\n",
      "     algorithm  pixels  nf   nt  repeats  median_time  std_time  median_chisq\n",
      "0          cpu     200   6  200        2     3.686069  0.009787      0.238236\n",
      "1          cpu     200   6  400        2    17.064837  0.021823      0.329806\n",
      "2          cpu    1000   6  200        2     4.226081  0.006473      0.324331\n",
      "3          cpu    1000   6  400        2    18.266336  0.079807      0.344501\n",
      "4          cpu    2000   6  200        2     4.955185  0.011228      0.320744\n",
      "5          cpu    2000   6  400        2    20.694898  0.304331      0.328788\n",
      "6          cpu    5000   6  200        2     7.091193  0.050497      0.297519\n",
      "7          cpu    5000   6  400        2    38.916675  1.885887      0.360490\n",
      "8       gpu-l2     200   6  200        2     0.003945  0.000124     25.816561\n",
      "9       gpu-l2     200   6  400        2     0.005745  0.000328     25.835223\n",
      "10      gpu-l2    1000   6  200        2     0.007129  0.000835     25.601184\n",
      "11      gpu-l2    1000   6  400        2     0.014136  0.001866     25.543462\n",
      "12      gpu-l2    2000   6  200        2     0.009198  0.002080     25.641960\n",
      "13      gpu-l2    2000   6  400        2     0.023714  0.001430     25.666297\n",
      "14      gpu-l2    5000   6  200        2     0.019726  0.001543     25.662555\n",
      "15      gpu-l2    5000   6  400        2     0.019558  0.006648     25.686040\n",
      "16  vectorized     200   6  200        2     2.533529  0.003350    101.213300\n",
      "17  vectorized     200   6  400        2    12.268135  0.024085    101.213300\n",
      "18  vectorized    1000   6  200        2     3.293553  0.095851    100.222577\n",
      "19  vectorized    1000   6  400        2    13.201990  0.099506    100.222577\n",
      "20  vectorized    2000   6  200        2     3.790832  0.171737    100.644210\n",
      "21  vectorized    2000   6  400        2    14.480148  0.368732    100.644210\n",
      "22  vectorized    5000   6  200        2     5.150683  0.046110    100.826543\n",
      "23  vectorized    5000   6  400        2    29.493026  2.486637    100.826543\n"
     ]
    }
   ],
   "source": [
    "# 📥 CSV laden\n",
    "\n",
    "CSV_PATH = \"../results/benchmark_results.csv\"\n",
    "\n",
    "if not os.path.exists(CSV_PATH):\n",
    "    print(f\"❌ CSV-Datei nicht gefunden unter: {CSV_PATH}\")\n",
    "    sys.exit(1)\n",
    "\n",
    "df = pd.read_csv(CSV_PATH)\n",
    "\n",
    "# 🧹 Daten aufbereiten\n",
    "\n",
    "numeric_cols = [\n",
    "    \"pixels\", \"nf\", \"nt\", \"repeats\", \"median_time\", \"std_time\",\n",
    "    \"median_chisq\"\n",
    "]\n",
    "df[numeric_cols] = df[numeric_cols].apply(pd.to_numeric, errors=\"coerce\")\n",
    "\n",
    "df = df.sort_values(by=[\"algorithm\", \"pixels\", \"nt\"]).reset_index(drop=True)\n",
    "\n",
    "# 📊 Erste Übersicht ausgeben\n",
    "\n",
    "print(\"✅ CSV erfolgreich geladen!\")\n",
    "print(f\"📁 Datensätze: {len(df)}\\n\")\n",
    "\n",
    "print(\"🔎 Verfügbare Algorithmen:\")\n",
    "print(df[\"algorithm\"].unique(), \"\\n\")\n",
    "\n",
    "print(\"📏 Pixelwerte:\")\n",
    "print(df[\"pixels\"].unique(), \"\\n\")\n",
    "\n",
    "print(\"🌡️ Temperatur-Bins (nt):\")\n",
    "print(df[\"nt\"].unique(), \"\\n\")\n",
    "\n",
    "print(\"📊 Alle Datensätze:\")\n",
    "print(df)"
   ]
  },
  {
   "cell_type": "code",
   "execution_count": null,
   "id": "27bd76ff-32ef-44f4-b5e5-ca5e493686b9",
   "metadata": {},
   "outputs": [],
   "source": []
  }
 ],
 "metadata": {
  "kernelspec": {
   "display_name": "Python [conda env:.conda-hpcp-own]",
   "language": "python",
   "name": "conda-env-.conda-hpcp-own-py"
  },
  "language_info": {
   "codemirror_mode": {
    "name": "ipython",
    "version": 3
   },
   "file_extension": ".py",
   "mimetype": "text/x-python",
   "name": "python",
   "nbconvert_exporter": "python",
   "pygments_lexer": "ipython3",
   "version": "3.11.14"
  }
 },
 "nbformat": 4,
 "nbformat_minor": 5
}
