{
 "cells": [
  {
   "cell_type": "code",
   "execution_count": 1,
   "metadata": {},
   "outputs": [],
   "source": [
    "from aiapy.calibrate import degradation\n",
    "from aiapy.calibrate.util import get_correction_table\n",
    "from aiapy.calibrate import register, update_pointing\n",
    "from astropy import units as u\n",
    "import astropy.time as atime\n",
    "import numpy as np"
   ]
  },
  {
   "cell_type": "code",
   "execution_count": 2,
   "metadata": {},
   "outputs": [
    {
     "name": "stdout",
     "output_type": "stream",
     "text": [
      "2010-11-03T12:15:00.000\n",
      "[1.14278862 0.91401251 0.99550979 0.98652938 0.97036462 0.83094366]\n"
     ]
    }
   ],
   "source": [
    "channels = [94,131,171,193,211,335] * u.angstrom\n",
    "time=atime.Time('2010-11-03T12:15:00', scale='utc')\n",
    "\n",
    "# Get the corrections when jsoc is down\n",
    "ctab=get_correction_table(correction_table='aia_V10_20201119_190000_response_table.txt')\n",
    "\n",
    "nc=len(channels)\n",
    "degs=np.empty(nc)\n",
    "for i in np.arange(nc):\n",
    "      degs[i]=degradation(channels[i],time,correction_table=ctab)\n",
    "print(time)\n",
    "print(degs)\n",
    "\n",
    "# Previously calculated values\n",
    "# degs=np.array([1.14278863, 0.91401251, 0.99550979, 0.98652938, 0.97036462, 0.83094366])"
   ]
  },
  {
   "cell_type": "code",
   "execution_count": 3,
   "metadata": {},
   "outputs": [
    {
     "name": "stdout",
     "output_type": "stream",
     "text": [
      "2012-10-26T08:20:33.000\n",
      "[0.95762665 0.80559107 0.91564709 0.9423038  0.87467006 0.62886116]\n"
     ]
    }
   ],
   "source": [
    "time2=atime.Time('2012-10-26T08:20:33', scale='utc')\n",
    "\n",
    "degs2=np.empty(nc)\n",
    "for i in np.arange(nc):\n",
    "      degs2[i]=degradation(channels[i],time2,correction_table=ctab)\n",
    "print(time2)\n",
    "print(degs2)"
   ]
  },
  {
   "cell_type": "code",
   "execution_count": null,
   "metadata": {},
   "outputs": [],
   "source": []
  }
 ],
 "metadata": {
  "kernelspec": {
   "display_name": "base",
   "language": "python",
   "name": "python3"
  },
  "language_info": {
   "codemirror_mode": {
    "name": "ipython",
    "version": 3
   },
   "file_extension": ".py",
   "mimetype": "text/x-python",
   "name": "python",
   "nbconvert_exporter": "python",
   "pygments_lexer": "ipython3",
   "version": "3.10.9"
  }
 },
 "nbformat": 4,
 "nbformat_minor": 2
}
