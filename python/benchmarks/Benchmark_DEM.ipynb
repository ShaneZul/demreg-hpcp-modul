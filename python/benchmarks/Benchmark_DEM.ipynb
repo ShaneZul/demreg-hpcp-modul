{
 "cells": [
  {
   "cell_type": "code",
   "execution_count": 4,
   "id": "60ed3e69-ec37-42d4-9c75-902d8e0a5247",
   "metadata": {},
   "outputs": [
    {
     "name": "stdout",
     "output_type": "stream",
     "text": [
      "Benchmark-Setup: na=5000, nf=6, nt=150\n"
     ]
    },
    {
     "name": "stderr",
     "output_type": "stream",
     "text": [
      "100%|██████████| 50.0/50.0 [00:22<00:00, 2.20 x10^2 DEM/s]\n"
     ]
    },
    {
     "name": "stdout",
     "output_type": "stream",
     "text": [
      "\n",
      "✅ Baseline runtime: 23.08 s for 5000 DEMs\n",
      "\n",
      "Running detailed function profiling...\n"
     ]
    },
    {
     "name": "stderr",
     "output_type": "stream",
     "text": [
      "100%|██████████| 2.00/2.00 [00:02<00:00, 1.42s/ x10^2 DEM]\n"
     ]
    },
    {
     "name": "stdout",
     "output_type": "stream",
     "text": [
      "         19742 function calls (19625 primitive calls) in 2.910 seconds\n",
      "\n",
      "   Ordered by: internal time\n",
      "   List reduced from 527 to 10 due to restriction <10>\n",
      "\n",
      "   ncalls  tottime  percall  cumtime  percall filename:lineno(function)\n",
      "        2    2.145    1.073    2.145    1.073 {built-in method time.sleep}\n",
      "       11    0.256    0.023    0.256    0.023 {method 'poll' of 'select.poll' objects}\n",
      "       11    0.233    0.021    2.635    0.240 /usr/local/Cellar/python@3.13/3.13.7/Frameworks/Python.framework/Versions/3.13/lib/python3.13/selectors.py:385(select)\n",
      "       30    0.099    0.003    2.957    0.099 {method 'control' of 'select.kqueue' objects}\n",
      "    21/20    0.099    0.005    0.099    0.005 {built-in method posix.write}\n",
      "        7    0.029    0.004    0.029    0.004 {built-in method posix.waitpid}\n",
      "        2    0.009    0.004    0.009    0.004 {built-in method _posixsubprocess.fork_exec}\n",
      "     2165    0.002    0.000    0.004    0.000 /usr/local/Cellar/jupyterlab/4.4.9/libexec/lib/python3.13/site-packages/threadpoolctl.py:1201(_check_prefix)\n",
      "       54    0.002    0.000    0.002    0.000 /usr/local/Cellar/jupyterlab/4.4.9/libexec/lib/python3.13/site-packages/zmq/sugar/attrsettr.py:66(_get_attr_opt)\n",
      "      433    0.002    0.000    0.007    0.000 /usr/local/Cellar/jupyterlab/4.4.9/libexec/lib/python3.13/site-packages/threadpoolctl.py:1143(_make_controller_from_path)\n",
      "\n",
      "\n",
      "Numba not installed – skipping optimization example.\n",
      "n=100: 2.57 s\n"
     ]
    },
    {
     "name": "stderr",
     "output_type": "stream",
     "text": [
      "100%|██████████| 5.00/5.00 [00:03<00:00, 1.66 x10^2 DEM/s]"
     ]
    },
    {
     "name": "stdout",
     "output_type": "stream",
     "text": [
      "n=500: 3.12 s\n"
     ]
    },
    {
     "name": "stderr",
     "output_type": "stream",
     "text": [
      "\n",
      "100%|██████████| 10.0/10.0 [00:04<00:00, 2.27 x10^2 DEM/s]"
     ]
    },
    {
     "name": "stdout",
     "output_type": "stream",
     "text": [
      "n=1000: 4.61 s\n"
     ]
    },
    {
     "name": "stderr",
     "output_type": "stream",
     "text": [
      "\n",
      "100%|██████████| 20.0/20.0 [00:09<00:00, 2.19 x10^2 DEM/s]\n"
     ]
    },
    {
     "name": "stdout",
     "output_type": "stream",
     "text": [
      "n=2000: 9.48 s\n"
     ]
    },
    {
     "data": {
      "image/png": "[encoded data removed]",
      "text/plain": [
       "<Figure size 600x400 with 1 Axes>"
      ]
     },
     "metadata": {},
     "output_type": "display_data"
    },
    {
     "data": {
      "text/html": [
       "<div>\n",
       "<style scoped>\n",
       "    .dataframe tbody tr th:only-of-type {\n",
       "        vertical-align: middle;\n",
       "    }\n",
       "\n",
       "    .dataframe tbody tr th {\n",
       "        vertical-align: top;\n",
       "    }\n",
       "\n",
       "    .dataframe thead th {\n",
       "        text-align: right;\n",
       "    }\n",
       "</style>\n",
       "<table border=\"1\" class=\"dataframe\">\n",
       "  <thead>\n",
       "    <tr style=\"text-align: right;\">\n",
       "      <th></th>\n",
       "      <th>Version</th>\n",
       "      <th>Runtime [s]</th>\n",
       "      <th>Speed-up</th>\n",
       "    </tr>\n",
       "  </thead>\n",
       "  <tbody>\n",
       "    <tr>\n",
       "      <th>0</th>\n",
       "      <td>Baseline (CPU)</td>\n",
       "      <td>23.07914</td>\n",
       "      <td>1.0</td>\n",
       "    </tr>\n",
       "    <tr>\n",
       "      <th>1</th>\n",
       "      <td>Optimized (Numba)</td>\n",
       "      <td>NaN</td>\n",
       "      <td>NaN</td>\n",
       "    </tr>\n",
       "    <tr>\n",
       "      <th>2</th>\n",
       "      <td>GPU (CuPy)</td>\n",
       "      <td>NaN</td>\n",
       "      <td>NaN</td>\n",
       "    </tr>\n",
       "  </tbody>\n",
       "</table>\n",
       "</div>"
      ],
      "text/plain": [
       "             Version  Runtime [s]  Speed-up\n",
       "0     Baseline (CPU)     23.07914       1.0\n",
       "1  Optimized (Numba)          NaN       NaN\n",
       "2         GPU (CuPy)          NaN       NaN"
      ]
     },
     "metadata": {},
     "output_type": "display_data"
    }
   ],
   "source": [
    "# Benchmark_DEM.ipynb\n",
    "# ===================\n",
    "# Performance Analysis Notebook für DEM-Rekonstruktion\n",
    "# Basierend auf dem Modul \"High Performance Computing in Python\"\n",
    "\n",
    "# ---\n",
    "# Setup\n",
    "# ---\n",
    "import numpy as np\n",
    "import time\n",
    "import cProfile, pstats\n",
    "import matplotlib.pyplot as plt\n",
    "\n",
    "from sys import path as sys_path\n",
    "\n",
    "sys_path.append('/Users/stefansimic/Documents/HPCP/demreg-hpcp-modul/python')\n",
    "\n",
    "from demmap_pos import demmap_pos\n",
    "\n",
    "# ---\n",
    "# Testdaten erzeugen (skalierbar)\n",
    "# ---\n",
    "na = 5000     # Anzahl DEMs (Pixel)\n",
    "nf = 6        # AIA-Kanäle\n",
    "nt = 150      # Temperatur-Bins\n",
    "\n",
    "dd = np.random.random((na, nf)) * 1e3\n",
    "ed = np.random.random((na, nf)) * 20 + 5\n",
    "rmatrix = np.random.random((nt, nf)) * 1e-23\n",
    "logt = np.linspace(5.5, 7.5, nt)\n",
    "dlogt = np.gradient(logt)\n",
    "glc = np.ones(nf)\n",
    "dem_norm0 = np.ones((na, nt))\n",
    "\n",
    "print(f\"Benchmark-Setup: na={na}, nf={nf}, nt={nt}\")\n",
    "\n",
    "# ---\n",
    "# 1. Baseline-Zeitmessung\n",
    "# ---\n",
    "start = time.perf_counter()\n",
    "dem, edem, elogt, chisq, dn_reg = demmap_pos(dd, ed, rmatrix, logt, dlogt, glc, dem_norm0=dem_norm0)\n",
    "end = time.perf_counter()\n",
    "\n",
    "baseline_time = end - start\n",
    "print(f\"\\n✅ Baseline runtime: {baseline_time:.2f} s for {na} DEMs\")\n",
    "\n",
    "# ---\n",
    "# 2. Profiling mit cProfile\n",
    "# ---\n",
    "print(\"\\nRunning detailed function profiling...\")\n",
    "with cProfile.Profile() as pr:\n",
    "    demmap_pos(dd[:200], ed[:200], rmatrix, logt, dlogt, glc, dem_norm0=dem_norm0[:200])\n",
    "stats = pstats.Stats(pr)\n",
    "stats.sort_stats('tottime').print_stats(10)\n",
    "\n",
    "# Optional speichern:\n",
    "# stats.dump_stats(\"profile_DEM.prof\")\n",
    "\n",
    "# ---\n",
    "# 3. (Optional) Numba-Optimierung\n",
    "# ---\n",
    "try:\n",
    "    from numba import njit\n",
    "\n",
    "    @njit\n",
    "    def dem_inv_gsvd_numba(A, b):\n",
    "        # Dummy-JIT-Funktion für Beispielzwecke\n",
    "        return np.linalg.lstsq(A, b, rcond=None)[0]\n",
    "\n",
    "    # Beispiel: JIT warm-up\n",
    "    A = np.random.rand(100, 10)\n",
    "    b = np.random.rand(100)\n",
    "    dem_inv_gsvd_numba(A, b)\n",
    "\n",
    "    start = time.perf_counter()\n",
    "    for _ in range(10):\n",
    "        dem_inv_gsvd_numba(A, b)\n",
    "    numba_time = (time.perf_counter() - start) / 10\n",
    "\n",
    "    print(f\"\\nNumba test runtime (dummy GSVD): {numba_time:.5f} s\")\n",
    "except ImportError:\n",
    "    print(\"Numba not installed – skipping optimization example.\")\n",
    "\n",
    "# ---\n",
    "# 4. Skalierungstest (verschiedene Eingangsgrößen)\n",
    "# ---\n",
    "sizes = [100, 500, 1000, 2000]\n",
    "times = []\n",
    "\n",
    "for n in sizes:\n",
    "    dd_test = np.random.random((n, nf)) * 1e3\n",
    "    ed_test = np.random.random((n, nf)) * 20 + 5\n",
    "    dem_norm0_test = np.ones((n, nt))\n",
    "    \n",
    "    start = time.perf_counter()\n",
    "    demmap_pos(dd_test, ed_test, rmatrix, logt, dlogt, glc, dem_norm0=dem_norm0_test)\n",
    "    end = time.perf_counter()\n",
    "    \n",
    "    times.append(end - start)\n",
    "    print(f\"n={n}: {end - start:.2f} s\")\n",
    "\n",
    "plt.figure(figsize=(6,4))\n",
    "plt.plot(sizes, times, 'o-', label=\"CPU Baseline\")\n",
    "plt.xlabel(\"Anzahl DEMs (n)\")\n",
    "plt.ylabel(\"Laufzeit [s]\")\n",
    "plt.title(\"Strong Scaling Benchmark\")\n",
    "plt.legend()\n",
    "plt.grid(True)\n",
    "plt.show()\n",
    "\n",
    "# ---\n",
    "# 5. Speed-up-Tabelle (Platzhalter)\n",
    "# ---\n",
    "import pandas as pd\n",
    "data = {\n",
    "    \"Version\": [\"Baseline (CPU)\", \"Optimized (Numba)\", \"GPU (CuPy)\"],\n",
    "    \"Runtime [s]\": [baseline_time, np.nan, np.nan],\n",
    "    \"Speed-up\": [1.0, np.nan, np.nan]\n",
    "}\n",
    "df = pd.DataFrame(data)\n",
    "display(df)"
   ]
  },
  {
   "cell_type": "code",
   "execution_count": null,
   "id": "b699dcb0-3fce-47ff-9f76-cc3d5569fa48",
   "metadata": {},
   "outputs": [],
   "source": []
  }
 ],
 "metadata": {
  "kernelspec": {
   "display_name": "Python 3 (ipykernel)",
   "language": "python",
   "name": "python3"
  },
  "language_info": {
   "codemirror_mode": {
    "name": "ipython",
    "version": 3
   },
   "file_extension": ".py",
   "mimetype": "text/x-python",
   "name": "python",
   "nbconvert_exporter": "python",
   "pygments_lexer": "ipython3",
   "version": "3.13.7"
  }
 },
 "nbformat": 4,
 "nbformat_minor": 5
}
