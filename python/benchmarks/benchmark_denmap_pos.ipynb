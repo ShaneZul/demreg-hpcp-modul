{
 "cells": [
  {
   "cell_type": "code",
   "execution_count": 21,
   "id": "b2b35adb-f567-4a26-9828-184405ac980b",
   "metadata": {},
   "outputs": [
    {
     "name": "stdout",
     "output_type": "stream",
     "text": [
      "Running baseline benchmark for demmap_pos() ...\n"
     ]
    },
    {
     "name": "stderr",
     "output_type": "stream",
     "text": [
      "100%|██████████| 20.0/20.0 [00:10<00:00, 1.95 x10^2 DEM/s]"
     ]
    },
    {
     "name": "stdout",
     "output_type": "stream",
     "text": [
      "\n",
      "✅ Baseline runtime: 10.548 seconds for 2000 DEMs\n",
      "Average per DEM: 0.0053 s/DEM\n"
     ]
    },
    {
     "name": "stderr",
     "output_type": "stream",
     "text": [
      "\n"
     ]
    }
   ],
   "source": [
    "import time\n",
    "import numpy as np\n",
    "from sys import path as sys_path\n",
    "\n",
    "sys_path.append('/Users/stefansimic/Documents/HPCP/demreg-hpcp-modul/python')\n",
    "\n",
    "from demmap_pos import demmap_pos\n",
    "\n",
    "na = 2000   # Anzahl Pixel (DEM-Zeilen)\n",
    "nf = 6      # AIA-Kanäle (konstant lassen)\n",
    "nt = 150    # Temperatur-Bins (höhere Auflösung)\n",
    "\n",
    "# Zufallsdaten simulieren\n",
    "dd = np.random.random((na, nf)) * 1e3         # Intensitäten\n",
    "ed = np.random.random((na, nf)) * 20 + 5      # Messfehler\n",
    "rmatrix = np.random.random((nt, nf)) * 1e-23  # Temperaturantwort\n",
    "logt = np.linspace(5.5, 7.5, nt)              # log10(T)\n",
    "dlogt = np.gradient(logt)                     # Array mit Schrittweiten\n",
    "glc = np.ones(nf)\n",
    "dem_norm0 = np.ones((na, nt))                 # Start-Guess\n",
    "\n",
    "print(\"Running baseline benchmark for demmap_pos() ...\")\n",
    "start = time.perf_counter()\n",
    "\n",
    "dem, edem, elogt, chisq, dn_reg = demmap_pos(dd, ed, rmatrix, logt, dlogt, glc, dem_norm0=dem_norm0)\n",
    "\n",
    "end = time.perf_counter()\n",
    "runtime = end - start\n",
    "\n",
    "print(f\"\\n✅ Baseline runtime: {runtime:.3f} seconds for {na} DEMs\")\n",
    "print(f\"Average per DEM: {runtime/na:.4f} s/DEM\")\n"
   ]
  },
  {
   "cell_type": "code",
   "execution_count": null,
   "id": "4f7459f1-5add-4ad4-a2c3-1bfe4300579b",
   "metadata": {},
   "outputs": [],
   "source": []
  }
 ],
 "metadata": {
  "kernelspec": {
   "display_name": "Python 3 (ipykernel)",
   "language": "python",
   "name": "python3"
  },
  "language_info": {
   "codemirror_mode": {
    "name": "ipython",
    "version": 3
   },
   "file_extension": ".py",
   "mimetype": "text/x-python",
   "name": "python",
   "nbconvert_exporter": "python",
   "pygments_lexer": "ipython3",
   "version": "3.13.7"
  }
 },
 "nbformat": 4,
 "nbformat_minor": 5
}
