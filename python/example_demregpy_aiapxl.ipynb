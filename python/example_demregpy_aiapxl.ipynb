{
 "cells": [
  {
   "cell_type": "markdown",
   "metadata": {},
   "source": [
    "#### Example using DEMReg and SDO/AIA data\n",
    "Here using a single pixel of SDO/AIA data taken from the event featured in [Hannah & Kontar 2013 A&A](https://doi.org/10.1051/0004-6361/201219727). \n",
    "\n",
    "26-Oct-2020 IGH\\\n",
    "04-Nov-2020 IGH - Updated to use v10 aia deg_cor"
   ]
  },
  {
   "cell_type": "code",
   "execution_count": 1,
   "metadata": {},
   "outputs": [],
   "source": [
    "# Import some of the stuff we will need\n",
    "import numpy as np\n",
    "import math\n",
    "import matplotlib.pyplot as plt\n",
    "import matplotlib\n",
    "import scipy.io as io\n",
    "from dn2dem_pos import dn2dem_pos\n",
    "import glob\n",
    "\n",
    "import astropy.time as atime\n",
    "from astropy.coordinates import SkyCoord\n",
    "from astropy import units as u\n",
    "import sunpy.map\n",
    "\n",
    "from aiapy.calibrate import degradation\n",
    "from aiapy.calibrate.util import get_correction_table\n",
    "from aiapy.calibrate import register, update_pointing\n",
    "\n",
    "import warnings\n",
    "warnings.simplefilter('ignore')\n",
    "matplotlib.rcParams['font.size'] = 16"
   ]
  },
  {
   "cell_type": "code",
   "execution_count": 2,
   "metadata": {},
   "outputs": [
    {
     "name": "stdout",
     "output_type": "stream",
     "text": [
      "['/Users/iain/Downloads/aia.lev1.131A_2010-11-03T12_15_09.62Z.image_lev1.fits', '/Users/iain/Downloads/aia.lev1.171A_2010-11-03T12_15_12.34Z.image_lev1.fits', '/Users/iain/Downloads/aia.lev1.193A_2010-11-03T12_15_19.84Z.image_lev1.fits', '/Users/iain/Downloads/aia.lev1.211A_2010-11-03T12_15_12.62Z.image_lev1.fits', '/Users/iain/Downloads/aia.lev1.335A_2010-11-03T12_15_15.62Z.image_lev1.fits', '/Users/iain/Downloads/aia.lev1.94A_2010-11-03T12_15_14.12Z.image_lev1.fits']\n"
     ]
    }
   ],
   "source": [
    "# Get your AIA data from somewhere like vso or through sunpy and fido\n",
    "# Now load in the fits files\n",
    "fdir='/Users/iain/Downloads/' \n",
    "ff=sorted(glob.glob(fdir+'aia.lev1*.fits'))\n",
    "print(ff)\n",
    "\n",
    "# This data is from the event in Hannah & Kontar 2013 A&A \n",
    "#  https://doi.org/10.1051/0004-6361/201219727\n"
   ]
  },
  {
   "cell_type": "code",
   "execution_count": 3,
   "metadata": {},
   "outputs": [],
   "source": [
    "# Load in the data, will worry about the order later\n",
    "amaps=sunpy.map.Map(ff)"
   ]
  },
  {
   "cell_type": "code",
   "execution_count": 4,
   "metadata": {},
   "outputs": [
    {
     "name": "stdout",
     "output_type": "stream",
     "text": [
      "[131, 171, 193, 211, 335, 94]\n",
      "[5, 0, 1, 2, 3, 4]\n",
      "[94, 131, 171, 193, 211, 335]\n"
     ]
    }
   ],
   "source": [
    "# Get the wavelengths of the maps and get index of sort for this list of maps \n",
    "wvn0 = [m.meta['wavelnth'] for m in amaps]\n",
    "print(wvn0)\n",
    "srt_id = sorted(range(len(wvn0)), key=wvn0.__getitem__)\n",
    "print(srt_id)\n",
    "\n",
    "# And now can reorder them\n",
    "# OK to do it without creating new list as finding order and reordering in same cell\n",
    "amaps = [amaps[i] for i in srt_id]\n",
    "print([m.meta['wavelnth'] for m in amaps])"
   ]
  },
  {
   "cell_type": "code",
   "execution_count": null,
   "metadata": {},
   "outputs": [],
   "source": [
    "# aiaprep the images, may take a while to run\n",
    "# depending on what you are doing could skip this step\n",
    "aprep=[]\n",
    "for m in amaps:\n",
    "    m_temp = update_pointing(m)\n",
    "    aprep.append(register(m_temp))"
   ]
  },
  {
   "cell_type": "code",
   "execution_count": null,
   "metadata": {},
   "outputs": [],
   "source": [
    "# Get the durations for the DN/px/s normalisation and\n",
    "# wavenlength to check the order - should already be sorted above\n",
    "wvn = [m.meta['wavelnth'] for m in aprep]\n",
    "durs = [m.meta['exptime'] for m in aprep]\n",
    "# Convert to numpy arrays as make things easier later\n",
    "durs=np.array(durs)\n",
    "wvn=np.array(wvn)\n",
    "print(durs)\n",
    "print(wvn)"
   ]
  },
  {
   "cell_type": "code",
   "execution_count": null,
   "metadata": {},
   "outputs": [],
   "source": [
    "# use Sunpy to help work out pixel location for DEM calculation if know \n",
    "# or can just go directly if you already know pixel indices, i.e. m.data[100,100]\n",
    "# The below pixel is roughly pixel 6 in fig 2 from https://doi.org/10.1051/0004-6361/201219727\n",
    "px=-915*u.arcsec\n",
    "py=-340*u.arcsec\n",
    "data=[]\n",
    "for m in aprep:\n",
    "    px_loc=m.world_to_pixel(SkyCoord(px,py, frame=m.coordinate_frame))\n",
    "#   print(px_loc)\n",
    "#   Remember python array is first dimension row (y), second dimension x (column) - opposite of idl\n",
    "    data.append(m.data[int(px_loc[1].value),int(px_loc[0].value)])\n",
    "data=np.array(data)\n",
    "# Only doing 1 pixel so immediately in units of DN/px\n",
    "print(data)\n",
    "\n",
    "# Plot where the coords is we are looking at\n",
    "# Probably want to do this before the above lines to work out what pixel/region you need\n",
    "bottom_left = SkyCoord(-1100*u.arcsec,-450*u.arcsec, frame=aprep[0].coordinate_frame)\n",
    "top_right = SkyCoord(-900*u.arcsec,-250*u.arcsec, frame=aprep[0].coordinate_frame)\n",
    "mm = aprep[0].submap(bottom_left, top_right=top_right)\n",
    "fig = plt.figure(figsize=(8,8))\n",
    "ax = plt.subplot(projection=mm)\n",
    "mm.plot()\n",
    "ax.plot_coord(SkyCoord(px,py, frame=mm.coordinate_frame), 'kx', fillstyle='none', markersize=15)\n",
    "plt.show()"
   ]
  },
  {
   "cell_type": "code",
   "execution_count": null,
   "metadata": {},
   "outputs": [],
   "source": [
    "# Just check things are sorted in the correct order of [94,131,171,193,211,335]\n",
    "worder=np.argsort(wvn)\n",
    "print(worder)\n",
    "# As sorted after loading the maps in don't need the following lines now\n",
    "# durs=durs[worder]\n",
    "# data=data[worder]"
   ]
  },
  {
   "cell_type": "code",
   "execution_count": null,
   "metadata": {},
   "outputs": [],
   "source": [
    "# Let's get the degradation correction factors\n",
    "channels = [94,131,171,193,211,335] * u.angstrom\n",
    "time=atime.Time('2010-11-03T12:15:00', scale='utc')\n",
    "# print(channels)\n",
    "# print(time.isot)\n",
    "\n",
    "# nc=len(channels)\n",
    "# degs=np.empty(nc)\n",
    "# for i in np.arange(nc):\n",
    "#       degs[i]=degradation(channels[i],time,calibration_version=10)\n",
    "# print(degs)\n",
    "# # for speed just save in here and manually define\n",
    "# # v9 values\n",
    "# # degs=np.array([1.14705432, 0.91535957, 0.97148718, 0.98810095, 0.97238522, 0.83229072])\n",
    "# # v10 values\n",
    "degs=np.array([1.14278863, 0.91401251, 0.99550979, 0.98652938, 0.97036462, 0.83094366])\n",
    "print(degs)\n"
   ]
  },
  {
   "cell_type": "code",
   "execution_count": null,
   "metadata": {},
   "outputs": [],
   "source": [
    "# correct for the degradation\n",
    "cor_data=data/degs"
   ]
  },
  {
   "cell_type": "code",
   "execution_count": null,
   "metadata": {},
   "outputs": [],
   "source": [
    "# Now load in the response factors\n",
    "# Load in the SSWIDL generated response functions\n",
    "# Was produced by make_aiaresp_forpy.pro (can't escape sswidl that easily....)\n",
    "trin=io.readsav('aia_trespv9_en.dat')\n",
    "\n",
    "# Get the temperature response functions in the correct form for demreg\n",
    "tresp_logt=np.array(trin['logt'])\n",
    "nt=len(tresp_logt)\n",
    "nf=len(trin['tr'][:])\n",
    "trmatrix=np.zeros((nt,nf))\n",
    "for i in range(0,nf):\n",
    "    trmatrix[:,i]=trin['tr'][i]"
   ]
  },
  {
   "cell_type": "code",
   "execution_count": null,
   "metadata": {},
   "outputs": [],
   "source": [
    "# Get the data in the correct format for the DEM code, i.e.\n",
    "# array of data and uncertainty in DN/px/s\n",
    "dn_in=cor_data/durs\n",
    "print('dn_in: ',dn_in)\n",
    "\n",
    "# Using below than number pixels =1 so DN/px = DN, \n",
    "# otherwise would need to correct before calculating uncertainty\n",
    "\n",
    "# And the associated uncertainty\n",
    "gains=np.array([18.3,17.6,17.7,18.3,18.3,17.6])\n",
    "dn2ph=gains*np.array([94,131,171,193,211,335])/3397.\n",
    "rdnse=np.array([1.14,1.18,1.15,1.20,1.20,1.18])\n",
    "shotnoise=(dn2ph*cor_data)**0.5/dn2ph\n",
    "# error in DN/px/s\n",
    "edn_in=(rdnse**2+shotnoise**2)**0.5/durs\n",
    "print('edn_in: ',edn_in)\n",
    "# You might also want to include a systematic uncertainty..."
   ]
  },
  {
   "cell_type": "code",
   "execution_count": null,
   "metadata": {},
   "outputs": [],
   "source": [
    "#  What temperature binning do we want for the output DEM?\n",
    "#  These are the bin edges\n",
    "#  Need to tweak the range based on what you are looking at\n",
    "temps=np.logspace(5.7,7.6,num=42)\n",
    "# Temperature bin mid-points for DEM plotting\n",
    "mlogt=([np.mean([(np.log10(temps[i])),np.log10((temps[i+1]))]) \\\n",
    "        for i in np.arange(0,len(temps)-1)])"
   ]
  },
  {
   "cell_type": "code",
   "execution_count": null,
   "metadata": {},
   "outputs": [],
   "source": [
    "# Work out the DEM\n",
    "dem,edem,elogt,chisq,dn_reg=dn2dem_pos(dn_in,edn_in,trmatrix,tresp_logt,temps)\n",
    "\n",
    "#  Plot it all\n",
    "fig = plt.figure(figsize=(8, 4.5))\n",
    "plt.errorbar(mlogt,dem,xerr=elogt,yerr=edem,fmt='or',ecolor='gray', elinewidth=3, capsize=0)\n",
    "plt.xlabel('$\\mathrm{\\log_{10}T\\;[K]}$')\n",
    "plt.ylabel('$\\mathrm{DEM\\;[cm^{-5}\\;K^{-1}]}$')\n",
    "plt.ylim([1e20,4e22])\n",
    "plt.xlim([5.7,7.5])\n",
    "plt.rcParams.update({'font.size': 16})\n",
    "plt.yscale('log')\n",
    "plt.show()"
   ]
  },
  {
   "cell_type": "code",
   "execution_count": null,
   "metadata": {},
   "outputs": [],
   "source": [
    "# Now that we have a rough DEM solution could run it again using \n",
    "# this to weight the DEM solution. Original idl version of DEM code did this by default \n",
    "# but mapping removed it as slower overall, but only 1 pixel so speed not an issue\n",
    "dem_norm0=dem/np.max(dem)\n",
    "dem0,edem0,elogt0,chisq0,dn_reg0=dn2dem_pos(dn_in,edn_in,trmatrix,tresp_logt,temps,dem_norm0=dem_norm0)\n",
    "\n",
    "#  Plot it all\n",
    "fig = plt.figure(figsize=(8, 4.5))\n",
    "plt.errorbar(mlogt,dem0,xerr=elogt0,yerr=edem0,fmt='or',ecolor='gray', elinewidth=3, capsize=0)\n",
    "plt.xlabel('$\\mathrm{\\log_{10}T\\;[K]}$')\n",
    "plt.ylabel('$\\mathrm{DEM\\;[cm^{-5}\\;K^{-1}]}$')\n",
    "plt.ylim([1e20,4e22])\n",
    "plt.xlim([5.7,7.5])\n",
    "plt.rcParams.update({'font.size': 16})\n",
    "plt.yscale('log')\n",
    "plt.title('')\n",
    "plt.savefig('demregpy_aiapxl.png',bbox_inches='tight')\n",
    "plt.show()"
   ]
  },
  {
   "cell_type": "code",
   "execution_count": null,
   "metadata": {},
   "outputs": [],
   "source": []
  }
 ],
 "metadata": {
  "kernelspec": {
   "display_name": "Python 3",
   "language": "python",
   "name": "python3"
  },
  "language_info": {
   "codemirror_mode": {
    "name": "ipython",
    "version": 3
   },
   "file_extension": ".py",
   "mimetype": "text/x-python",
   "name": "python",
   "nbconvert_exporter": "python",
   "pygments_lexer": "ipython3",
   "version": "3.8.3"
  }
 },
 "nbformat": 4,
 "nbformat_minor": 4
}
